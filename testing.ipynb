{
 "cells": [
  {
   "cell_type": "code",
   "execution_count": 8,
   "metadata": {},
   "outputs": [],
   "source": [
    "import pandas as pd\n",
    "import data_exploration as de\n",
    "from dotenv import load_dotenv\n",
    "import os"
   ]
  },
  {
   "cell_type": "code",
   "execution_count": 36,
   "metadata": {},
   "outputs": [],
   "source": [
    "# de.filter_more_cols(df, {'merchant': ['Boxer', 'Checkers Sixty60']})\n",
    "dictionary = {'merchant': ['Boxer', 'Checkers Sixty60'], 'metric': ['Market share', '% of transactions']}"
   ]
  },
  {
   "cell_type": "code",
   "execution_count": 34,
   "metadata": {},
   "outputs": [],
   "source": [
    "def filter_all(df, dict:dict):\n",
    "    for i, v in enumerate(dict):\n",
    "        df = de.filter_more_values(df, list(dict)[i], dict.get(v))\n",
    "    return df"
   ]
  },
  {
   "cell_type": "code",
   "execution_count": 3,
   "metadata": {},
   "outputs": [
    {
     "data": {
      "text/plain": [
       "'G:\\\\My Drive\\\\DANIELS ECOSYSTEM\\\\extracurricularActivities\\\\DataScience\\\\datasets\\\\Transactional Retail Dataset of Electronics Store\\\\test_file.csv'"
      ]
     },
     "execution_count": 3,
     "metadata": {},
     "output_type": "execute_result"
    }
   ],
   "source": [
    "dir = 'G:\\My Drive\\DANIELS ECOSYSTEM\\extracurricularActivities\\DataScience\\datasets\\Transactional Retail Dataset of Electronics Store'\n",
    "de.create_dir(dir, 'test_file', 'csv')"
   ]
  },
  {
   "cell_type": "code",
   "execution_count": 13,
   "metadata": {},
   "outputs": [],
   "source": [
    "\n",
    "def create_env_variables():\n",
    "    load_dotenv(override=True)\n",
    "    access_key_id = os.environ.get('ACCESS_KEY_ID')\n",
    "    private_access_key = os.environ.get('PRIVATE_ACCESS_KEY')\n",
    "    var = {'id':access_key_id,\n",
    "           'key':private_access_key}\n",
    "    return var"
   ]
  },
  {
   "cell_type": "code",
   "execution_count": 14,
   "metadata": {},
   "outputs": [
    {
     "data": {
      "text/html": [
       "<div>\n",
       "<style scoped>\n",
       "    .dataframe tbody tr th:only-of-type {\n",
       "        vertical-align: middle;\n",
       "    }\n",
       "\n",
       "    .dataframe tbody tr th {\n",
       "        vertical-align: top;\n",
       "    }\n",
       "\n",
       "    .dataframe thead th {\n",
       "        text-align: right;\n",
       "    }\n",
       "</style>\n",
       "<table border=\"1\" class=\"dataframe\">\n",
       "  <thead>\n",
       "    <tr style=\"text-align: right;\">\n",
       "      <th></th>\n",
       "      <th>description</th>\n",
       "      <th>amount</th>\n",
       "      <th>transaction_date</th>\n",
       "      <th>customer_id</th>\n",
       "      <th>merchant</th>\n",
       "    </tr>\n",
       "  </thead>\n",
       "  <tbody>\n",
       "    <tr>\n",
       "      <th>0</th>\n",
       "      <td>Old Khaki Claremont - Claremont</td>\n",
       "      <td>-1045.30</td>\n",
       "      <td>2021-11-01</td>\n",
       "      <td>id1414</td>\n",
       "      <td>Old Khaki</td>\n",
       "    </tr>\n",
       "    <tr>\n",
       "      <th>1</th>\n",
       "      <td>Bolt Services Za (Pty)Bryanstonza</td>\n",
       "      <td>-34.15</td>\n",
       "      <td>2021-11-21</td>\n",
       "      <td>id1212</td>\n",
       "      <td>Bolt</td>\n",
       "    </tr>\n",
       "    <tr>\n",
       "      <th>2</th>\n",
       "      <td>Nedbpl * ...</td>\n",
       "      <td>-1166.14</td>\n",
       "      <td>2021-11-25</td>\n",
       "      <td>id96</td>\n",
       "      <td>BP</td>\n",
       "    </tr>\n",
       "    <tr>\n",
       "      <th>3</th>\n",
       "      <td>Outstanding Card Authorisation Clicks Ran Gp Z...</td>\n",
       "      <td>-989.24</td>\n",
       "      <td>2021-11-11</td>\n",
       "      <td>id245</td>\n",
       "      <td>Clicks</td>\n",
       "    </tr>\n",
       "    <tr>\n",
       "      <th>4</th>\n",
       "      <td>Mtn Prepaid * Marsh</td>\n",
       "      <td>-38.45</td>\n",
       "      <td>2021-11-23</td>\n",
       "      <td>id888</td>\n",
       "      <td>MTN</td>\n",
       "    </tr>\n",
       "    <tr>\n",
       "      <th>...</th>\n",
       "      <td>...</td>\n",
       "      <td>...</td>\n",
       "      <td>...</td>\n",
       "      <td>...</td>\n",
       "      <td>...</td>\n",
       "    </tr>\n",
       "    <tr>\n",
       "      <th>1995</th>\n",
       "      <td>Engen Magalies *...</td>\n",
       "      <td>-103.45</td>\n",
       "      <td>2021-11-15</td>\n",
       "      <td>id1107</td>\n",
       "      <td>Engen</td>\n",
       "    </tr>\n",
       "    <tr>\n",
       "      <th>1996</th>\n",
       "      <td>Outstanding Card Authorisation Bolt Cape Town ...</td>\n",
       "      <td>-28.65</td>\n",
       "      <td>2021-11-03</td>\n",
       "      <td>id659</td>\n",
       "      <td>Bolt</td>\n",
       "    </tr>\n",
       "    <tr>\n",
       "      <th>1997</th>\n",
       "      <td>Nandos Waterfall Dr  Midrand</td>\n",
       "      <td>-53.20</td>\n",
       "      <td>2021-11-21</td>\n",
       "      <td>id166</td>\n",
       "      <td>Nando's</td>\n",
       "    </tr>\n",
       "    <tr>\n",
       "      <th>1998</th>\n",
       "      <td>Uber Trip Help.Uber.Co Johannesburg</td>\n",
       "      <td>-144.30</td>\n",
       "      <td>2021-11-04</td>\n",
       "      <td>id384</td>\n",
       "      <td>Uber</td>\n",
       "    </tr>\n",
       "    <tr>\n",
       "      <th>1999</th>\n",
       "      <td>Cheque Card Purchase Netflix.Com Xxx *</td>\n",
       "      <td>-161.05</td>\n",
       "      <td>2021-11-16</td>\n",
       "      <td>id727</td>\n",
       "      <td>Netflix</td>\n",
       "    </tr>\n",
       "  </tbody>\n",
       "</table>\n",
       "<p>2000 rows × 5 columns</p>\n",
       "</div>"
      ],
      "text/plain": [
       "                                            description   amount  \\\n",
       "0                       Old Khaki Claremont - Claremont -1045.30   \n",
       "1                     Bolt Services Za (Pty)Bryanstonza   -34.15   \n",
       "2                                          Nedbpl * ... -1166.14   \n",
       "3     Outstanding Card Authorisation Clicks Ran Gp Z...  -989.24   \n",
       "4                                   Mtn Prepaid * Marsh   -38.45   \n",
       "...                                                 ...      ...   \n",
       "1995                                Engen Magalies *...  -103.45   \n",
       "1996  Outstanding Card Authorisation Bolt Cape Town ...   -28.65   \n",
       "1997                       Nandos Waterfall Dr  Midrand   -53.20   \n",
       "1998                Uber Trip Help.Uber.Co Johannesburg  -144.30   \n",
       "1999             Cheque Card Purchase Netflix.Com Xxx *  -161.05   \n",
       "\n",
       "     transaction_date customer_id   merchant  \n",
       "0          2021-11-01      id1414  Old Khaki  \n",
       "1          2021-11-21      id1212       Bolt  \n",
       "2          2021-11-25        id96         BP  \n",
       "3          2021-11-11       id245     Clicks  \n",
       "4          2021-11-23       id888        MTN  \n",
       "...               ...         ...        ...  \n",
       "1995       2021-11-15      id1107      Engen  \n",
       "1996       2021-11-03       id659       Bolt  \n",
       "1997       2021-11-21       id166    Nando's  \n",
       "1998       2021-11-04       id384       Uber  \n",
       "1999       2021-11-16       id727    Netflix  \n",
       "\n",
       "[2000 rows x 5 columns]"
      ]
     },
     "execution_count": 14,
     "metadata": {},
     "output_type": "execute_result"
    }
   ],
   "source": [
    "env_var = create_env_variables()\n",
    "\n",
    "de.df_from_s3(file_name='transactions',\n",
    "            bucket='227-data-assessment',\n",
    "            data_types=None,\n",
    "            access_key_id=env_var.get('id'),\n",
    "            private_access_key=env_var.get('key'),\n",
    "            server_region='eu-west-1')"
   ]
  },
  {
   "cell_type": "code",
   "execution_count": null,
   "metadata": {},
   "outputs": [],
   "source": []
  }
 ],
 "metadata": {
  "kernelspec": {
   "display_name": "Python 3.10.4 64-bit",
   "language": "python",
   "name": "python3"
  },
  "language_info": {
   "codemirror_mode": {
    "name": "ipython",
    "version": 3
   },
   "file_extension": ".py",
   "mimetype": "text/x-python",
   "name": "python",
   "nbconvert_exporter": "python",
   "pygments_lexer": "ipython3",
   "version": "3.10.4"
  },
  "orig_nbformat": 4,
  "vscode": {
   "interpreter": {
    "hash": "d3e10ef16274dd72e574b8fa73b58450b957d8421a2901baded3cca26fcf5dda"
   }
  }
 },
 "nbformat": 4,
 "nbformat_minor": 2
}
